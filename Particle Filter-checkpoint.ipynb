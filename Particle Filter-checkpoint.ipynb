{
 "cells": [
  {
   "cell_type": "code",
   "execution_count": 279,
   "metadata": {
    "collapsed": true
   },
   "outputs": [],
   "source": [
    "from math import *\n",
    "import random"
   ]
  },
  {
   "cell_type": "code",
   "execution_count": 280,
   "metadata": {
    "collapsed": true
   },
   "outputs": [],
   "source": [
    "import matplotlib.pyplot as plt"
   ]
  },
  {
   "cell_type": "markdown",
   "metadata": {
    "collapsed": true
   },
   "source": [
    "# Set up the robot space"
   ]
  },
  {
   "cell_type": "code",
   "execution_count": null,
   "metadata": {
    "collapsed": true
   },
   "outputs": [],
   "source": [
    "#Define random landmarks\n",
    "world_size = 100.0\n",
    "landmarks = []\n",
    "for i in range(10):\n",
    "    x = random.random()*100\n",
    "    y = random.random()*100\n",
    "    my_mark = [x,y]\n",
    "    landmarks.append(my_mark)\n",
    "    "
   ]
  },
  {
   "cell_type": "markdown",
   "metadata": {},
   "source": [
    "# Define robot class"
   ]
  },
  {
   "cell_type": "code",
   "execution_count": 319,
   "metadata": {},
   "outputs": [],
   "source": [
    "#Define the robot class\n",
    "class robot():\n",
    "    def __init__(self):\n",
    "        #initialize\n",
    "        self.x = random.random() * world_size\n",
    "        self.y = random.random() * world_size\n",
    "        self.theta = random.random() * 2.0 * pi\n",
    "        self.forward_noise = 0.0;\n",
    "        self.turn_noise    = 0.0;\n",
    "        self.sense_noise   = 0.0;\n",
    "    \n",
    "    def set(self, x, y, theta):\n",
    "        #sets positional values\n",
    "        #operates as if the map wraps\n",
    "        self.x = float((x+world_size)%world_size)\n",
    "        self.y = float((y+world_size)%world_size)\n",
    "        self.theta = float((theta+(2*pi))%(2*pi))       \n",
    "        \n",
    "    def sense(self):\n",
    "        #measures distances to nearest landmarks\n",
    "        Z = []\n",
    "        for i in range(len(landmarks)):\n",
    "            dist = sqrt((self.x - landmarks[i][0]) ** 2 + (self.y - landmarks[i][1]) ** 2)\n",
    "            dist += random.gauss(0.0, self.sense_noise)\n",
    "            Z.append(dist)\n",
    "        return Z\n",
    "    \n",
    "    def move(self, turn, forward):\n",
    "        #moves the particles or car a distance at a given angle\n",
    "        orientation = self.theta + turn\n",
    "        x = float(self.x + forward*cos(orientation))\n",
    "        y = float(self.y + forward*sin(orientation))\n",
    "        theta = float(self.theta + orientation)\n",
    "        \n",
    "        new = robot()\n",
    "        new.set(x,y,theta)\n",
    "        new.set_noise(self.forward_noise,self.turn_noise, self.sense_noise)\n",
    "        return new\n",
    "        \n",
    "    def Gaussian(self, mu, sigma, x):    \n",
    "        # calculates the probability of x for 1-dim Gaussian with mean mu and var. sigma\n",
    "        return exp(- ((mu - x) ** 2) / (sigma ** 2) / 2.0) / sqrt(2.0 * pi * (sigma ** 2))\n",
    "    \n",
    "    def set_noise(self, new_f_noise, new_t_noise, new_s_noise):\n",
    "        #changes noise parameters\n",
    "        self.forward_noise = float(new_f_noise);\n",
    "        self.turn_noise    = float(new_t_noise);\n",
    "        self.sense_noise   = float(new_s_noise);\n",
    "        \n",
    "    def measurement_prob(self, measurement):\n",
    "        # calculates how likely a measurement should be\n",
    "        prob = 1.0;\n",
    "        for i in range(len(landmarks)):\n",
    "            dist = sqrt((self.x - landmarks[i][0]) ** 2 + (self.y - landmarks[i][1]) ** 2)\n",
    "            prob *= self.Gaussian(dist, self.sense_noise, measurement[i])\n",
    "        return prob  "
   ]
  },
  {
   "cell_type": "markdown",
   "metadata": {},
   "source": [
    "### Create an instance of the robot, which will be the car. \n",
    "The car has random initial position, and we take one initial measurement"
   ]
  },
  {
   "cell_type": "markdown",
   "metadata": {
    "collapsed": true
   },
   "source": [
    "x_dist = 10\n",
    "turn_value = 0.5\n",
    "std = [5,5,5]\n",
    "\n",
    "my_car = robot()\n",
    "my_car.set_noise(std[0],std[1],std[2])\n"
   ]
  },
  {
   "cell_type": "markdown",
   "metadata": {},
   "source": [
    "### Define graphing function to visualize particle filter"
   ]
  },
  {
   "cell_type": "code",
   "execution_count": 393,
   "metadata": {},
   "outputs": [],
   "source": [
    "def graph(p,my_car):\n",
    "    x = []\n",
    "    y = []\n",
    "    s = []\n",
    "    c = []\n",
    "    for i in range(num_particles):\n",
    "        x.append(p[i].x)\n",
    "        y.append(p[i].y)\n",
    "        s.append(2)\n",
    "        c.append('r')\n",
    "    \n",
    "    x_l=[]\n",
    "    y_l=[]\n",
    "    for i in range(len(landmarks)):\n",
    "        x_l.append(landmarks[i][0])\n",
    "        y_l.append(landmarks[i][1])\n",
    "\n",
    "    plt.figure()\n",
    "    plt.plot(x,y,'r*')\n",
    "    plt.plot(my_car.x,my_car.y,'bx')\n",
    "    plt.plot(x_l,y_l,'g^')\n",
    "    plt.axis([0, world_size, 0, world_size])\n",
    "    plt.show()"
   ]
  },
  {
   "cell_type": "markdown",
   "metadata": {},
   "source": [
    "# Initialization"
   ]
  },
  {
   "cell_type": "code",
   "execution_count": 299,
   "metadata": {},
   "outputs": [],
   "source": [
    "def initializer(std):\n",
    "    #Create random particles\n",
    "\n",
    "    p = []\n",
    "    for i in range(num_particles):\n",
    "        particle = robot()\n",
    "        particle.set_noise(std[0],std[1],std[2])\n",
    "        p.append(particle)\n",
    "    return p"
   ]
  },
  {
   "cell_type": "code",
   "execution_count": 300,
   "metadata": {},
   "outputs": [],
   "source": [
    "#graph(p,my_car)"
   ]
  },
  {
   "cell_type": "markdown",
   "metadata": {},
   "source": [
    "# Prediction"
   ]
  },
  {
   "cell_type": "code",
   "execution_count": 436,
   "metadata": {},
   "outputs": [],
   "source": [
    "#Make a movement, and predict the next position of the particles\n",
    "def predict(my_car, p, dist, turn_value):\n",
    "    my_car = my_car.move(turn_value,dist)\n",
    "    \n",
    "    p2 = []\n",
    "    for i in range(num_particles):\n",
    "        p[i].move(turn_value,dist)\n",
    "        p2.append(p[i])\n",
    "    p=p2\n",
    "    return p, my_car"
   ]
  },
  {
   "cell_type": "code",
   "execution_count": 286,
   "metadata": {},
   "outputs": [],
   "source": [
    "#graph(p,my_car)"
   ]
  },
  {
   "cell_type": "markdown",
   "metadata": {},
   "source": [
    "# Measurement Update"
   ]
  },
  {
   "cell_type": "code",
   "execution_count": 287,
   "metadata": {
    "collapsed": true
   },
   "outputs": [],
   "source": [
    "def measure(my_car):\n",
    "    Z = my_car.sense()\n",
    "    return Z"
   ]
  },
  {
   "cell_type": "markdown",
   "metadata": {},
   "source": [
    "# Update Weights\n",
    "Update the particle weights based on how likely it is that the car is in that particle's location."
   ]
  },
  {
   "cell_type": "code",
   "execution_count": 288,
   "metadata": {},
   "outputs": [],
   "source": [
    "def updateWeights(p,Z):\n",
    "    w = []\n",
    "    for i in range(num_particles):\n",
    "        w.append(p[i].measurement_prob(Z))\n",
    "    return(w)"
   ]
  },
  {
   "cell_type": "markdown",
   "metadata": {},
   "source": [
    "# Resample"
   ]
  },
  {
   "cell_type": "code",
   "execution_count": 303,
   "metadata": {},
   "outputs": [],
   "source": [
    "def resample(p):\n",
    "    p3 = []\n",
    "    beta = 0.0\n",
    "    mw=max(w)\n",
    "    index = int(random.random()*num_particles)\n",
    "    for i in range(num_particles):\n",
    "        beta+=random.random()*2.0*mw\n",
    "        while beta>w[index]:\n",
    "            beta -= w[index]\n",
    "            index = (index+1)%num_particles\n",
    "        p3.append(p[index])\n",
    "    p = p3\n",
    "    return p\n",
    "\n"
   ]
  },
  {
   "cell_type": "markdown",
   "metadata": {},
   "source": [
    "# Run Iterations"
   ]
  },
  {
   "cell_type": "code",
   "execution_count": 438,
   "metadata": {
    "collapsed": true
   },
   "outputs": [],
   "source": [
    "#User defned varaibles:\n",
    "\n",
    "num_iterations = 3    #number of iterations to run the filter for \n",
    "num_particles = 1000\n",
    "world_size = 1000.0\n",
    "num_landmarks = 20\n",
    "max_forward = 1000    #maximum distance forward moved in one time step\n",
    "\n",
    "forward_noise = 10\n",
    "turn_noise = 10\n",
    "sense_noise = 10"
   ]
  },
  {
   "cell_type": "code",
   "execution_count": 439,
   "metadata": {
    "collapsed": true
   },
   "outputs": [],
   "source": [
    "#Setup world and define random landmarks\n",
    "\n",
    "landmarks = []\n",
    "for i in range(num_landmarks):\n",
    "    x = random.random()*world_size\n",
    "    y = random.random()*world_size\n",
    "    my_mark = [x,y]\n",
    "    landmarks.append(my_mark)"
   ]
  },
  {
   "cell_type": "code",
   "execution_count": 440,
   "metadata": {},
   "outputs": [
    {
     "name": "stdout",
     "output_type": "stream",
     "text": [
      "Distance:  880.5488553247275\n"
     ]
    },
    {
     "data": {
      "image/png": "[encoded data removed]",
      "text/plain": [
       "<matplotlib.figure.Figure at 0x1aa9df39940>"
      ]
     },
     "metadata": {},
     "output_type": "display_data"
    },
    {
     "name": "stdout",
     "output_type": "stream",
     "text": [
      "Car is at ( 767.6382286304342 , 848.9411184030395 ) and facing  3.097403419321608\n"
     ]
    },
    {
     "data": {
      "image/png": "[encoded data removed]",
      "text/plain": [
       "<matplotlib.figure.Figure at 0x1aa8e0df7f0>"
      ]
     },
     "metadata": {},
     "output_type": "display_data"
    },
    {
     "name": "stdout",
     "output_type": "stream",
     "text": [
      "Distance:  303.88992506284353\n"
     ]
    },
    {
     "data": {
      "image/png": "[encoded data removed]",
      "text/plain": [
       "<matplotlib.figure.Figure at 0x1aa9e090080>"
      ]
     },
     "metadata": {},
     "output_type": "display_data"
    },
    {
     "name": "stdout",
     "output_type": "stream",
     "text": [
      "Car is at ( 597.9671064070617 , 984.8936677979531 ) and facing  1.3327064315229418\n"
     ]
    },
    {
     "data": {
      "image/png": "[encoded data removed]",
      "text/plain": [
       "<matplotlib.figure.Figure at 0x1aa9e1dfeb8>"
      ]
     },
     "metadata": {},
     "output_type": "display_data"
    },
    {
     "name": "stdout",
     "output_type": "stream",
     "text": [
      "Distance:  650.0627177325841\n"
     ]
    },
    {
     "data": {
      "image/png": "[encoded data removed]",
      "text/plain": [
       "<matplotlib.figure.Figure at 0x1aa9dd23d68>"
      ]
     },
     "metadata": {},
     "output_type": "display_data"
    },
    {
     "name": "stdout",
     "output_type": "stream",
     "text": [
      "Car is at ( 880.4676918651287 , 872.9003386638028 ) and facing  0.9552764622331953\n"
     ]
    },
    {
     "data": {
      "image/png": "[encoded data removed]",
      "text/plain": [
       "<matplotlib.figure.Figure at 0x1aa954dfb70>"
      ]
     },
     "metadata": {},
     "output_type": "display_data"
    }
   ],
   "source": [
    "std = [forward_noise,turn_noise,sense_noise]\n",
    "my_car = robot()\n",
    "my_car.set_noise(std[0],std[1],std[2])\n",
    "p = initializer(std)\n",
    "\n",
    "for i in range(num_iterations):\n",
    "    dist = random.random()*max_forward\n",
    "    print(\"Distance: \",dist)\n",
    "    turn_value = random.random()*2*pi\n",
    "    graph(p,my_car)\n",
    "    print(\"Car is at (\",my_car.x,\",\",my_car.y,\") and facing \",my_car.theta)\n",
    "    p,my_car = predict(my_car, p, dist, turn_value)\n",
    "    #graph(p,my_car)\n",
    "    Z = measure(my_car)\n",
    "    w = updateWeights(p,Z)\n",
    "    p = resample(p)\n",
    "    graph(p,my_car)"
   ]
  },
  {
   "cell_type": "code",
   "execution_count": null,
   "metadata": {
    "collapsed": true
   },
   "outputs": [],
   "source": []
  }
 ],
 "metadata": {
  "kernelspec": {
   "display_name": "Python 3",
   "language": "python",
   "name": "python3"
  },
  "language_info": {
   "codemirror_mode": {
    "name": "ipython",
    "version": 3
   },
   "file_extension": ".py",
   "mimetype": "text/x-python",
   "name": "python",
   "nbconvert_exporter": "python",
   "pygments_lexer": "ipython3",
   "version": "3.6.2"
  }
 },
 "nbformat": 4,
 "nbformat_minor": 2
}
